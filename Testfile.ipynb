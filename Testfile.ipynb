{
  "nbformat": 4,
  "nbformat_minor": 0,
  "metadata": {
    "colab": {
      "name": "Untitled0.ipynb",
      "provenance": [],
      "collapsed_sections": [],
      "authorship_tag": "ABX9TyNJZi5FaAd7R9rNsZUS0hJ0",
      "include_colab_link": true
    },
    "kernelspec": {
      "name": "python3",
      "display_name": "Python 3"
    }
  },
  "cells": [
    {
      "cell_type": "markdown",
      "metadata": {
        "id": "view-in-github",
        "colab_type": "text"
      },
      "source": [
        "<a href=\"https://colab.research.google.com/github/ahsanfarooqui/testrepo/blob/main/Testfile.ipynb\" target=\"_parent\"><img src=\"https://colab.research.google.com/assets/colab-badge.svg\" alt=\"Open In Colab\"/></a>"
      ]
    },
    {
      "cell_type": "markdown",
      "metadata": {
        "id": "ZpukVKwYUs9p"
      },
      "source": [
        "# Why Python? \r\n",
        "* Easy to Learn and Use\r\n",
        "* Mature and Support available from Python Community\r\n",
        "* Support from the Silicon Valley (Facebook, Google etc.)\r\n",
        "* Opensource i.e. Hundreds of Python Libraries\r\n",
        "* Versatility, Efficiency, Reliability, and Speed\r\n",
        "* Big Data, Machine Learning and Computing \r\n",
        "* Automation and Server Scripting\r\n",
        "* Web programming\r\n",
        "\r\n",
        "\r\n",
        "## Compiler vs Interpreter? "
      ]
    },
    {
      "cell_type": "code",
      "metadata": {
        "colab": {
          "base_uri": "https://localhost:8080/"
        },
        "id": "5VGUUpVDFheb",
        "outputId": "9c24028a-3eda-4afc-971b-7bc03812d306"
      },
      "source": [
        "a = 30\r\n",
        "if(a>0):\r\n",
        "  print(\"a is greater than zero\")\r\n",
        "  if(a%2==0):\r\n",
        "    print(\"Value is even\")\r\n",
        "  else:\r\n",
        "    print(\"Value is odd\")\r\n",
        "  \r\n",
        "\r\n"
      ],
      "execution_count": null,
      "outputs": [
        {
          "output_type": "stream",
          "text": [
            "a is not zer0\n"
          ],
          "name": "stdout"
        }
      ]
    },
    {
      "cell_type": "code",
      "metadata": {
        "id": "GcyCSg1BFpwI",
        "colab": {
          "base_uri": "https://localhost:8080/"
        },
        "outputId": "ef7d35c9-7b4a-4c43-e883-43b492bcd997"
      },
      "source": [
        "a = 11\r\n",
        "b = 30\r\n",
        "\r\n",
        "if((a%2==0)&()):\r\n",
        "  if(a<10):\r\n",
        "    print(\"A is even and less than 10\")\r\n",
        "  elif(a>10):\r\n",
        "    print(\"A is even and greater than 10\")\r\n",
        "  else:\r\n",
        "   print(\"A is even and is equal to 10 \")\r\n",
        "  \r\n",
        "elif(a>20):\r\n",
        "  print(\"a is greater than 20\")\r\n",
        "else:\r\n",
        "  print(\"a is not equal to 20\")"
      ],
      "execution_count": null,
      "outputs": [
        {
          "output_type": "stream",
          "text": [
            "a is not equal to 20\n"
          ],
          "name": "stdout"
        }
      ]
    },
    {
      "cell_type": "code",
      "metadata": {
        "id": "OVQXKIJPtDAX"
      },
      "source": [
        "# Lists. \r\n",
        "\r\n"
      ],
      "execution_count": null,
      "outputs": []
    },
    {
      "cell_type": "markdown",
      "metadata": {
        "id": "27M1Tl9Qvfl9"
      },
      "source": [
        "Lists vs. Arrays \r\n",
        "* Arrays can only have one kind of data. Array has a data type \r\n",
        "* Lists can have multiple kinds of data in same list. \r\n",
        "* Lists can be appended, whereas array's size is defined at the time of declaration\r\n",
        "* Lists support some functions like slicing that are not supported in arrays. \r\n",
        "* You can print list directly by calling name whereas in integer arrays, you only get address when you print the array with array name. "
      ]
    },
    {
      "cell_type": "code",
      "metadata": {
        "id": "PEgBm6eIwB-U"
      },
      "source": [
        "list_name = [5,6,7]"
      ],
      "execution_count": null,
      "outputs": []
    },
    {
      "cell_type": "code",
      "metadata": {
        "id": "AK0P0c-2wGEY"
      },
      "source": [
        "list_name.append(8)"
      ],
      "execution_count": null,
      "outputs": []
    },
    {
      "cell_type": "code",
      "metadata": {
        "colab": {
          "base_uri": "https://localhost:8080/"
        },
        "id": "GkbD6y7VwRx1",
        "outputId": "7a8eebd7-e50b-4053-ec52-b2843083ed1f"
      },
      "source": [
        "list_name"
      ],
      "execution_count": null,
      "outputs": [
        {
          "output_type": "execute_result",
          "data": {
            "text/plain": [
              "[5, 6, 7, 8]"
            ]
          },
          "metadata": {
            "tags": []
          },
          "execution_count": 28
        }
      ]
    },
    {
      "cell_type": "code",
      "metadata": {
        "colab": {
          "base_uri": "https://localhost:8080/"
        },
        "id": "Gbd4_g5kx0B6",
        "outputId": "a542460e-80f1-4cf9-9b2f-382acad8eab5"
      },
      "source": [
        "list_name.insert(1,10)\r\n"
      ],
      "execution_count": null,
      "outputs": [
        {
          "output_type": "execute_result",
          "data": {
            "text/plain": [
              "[5, 10, 6, 7, 8]"
            ]
          },
          "metadata": {
            "tags": []
          },
          "execution_count": 29
        }
      ]
    },
    {
      "cell_type": "code",
      "metadata": {
        "colab": {
          "base_uri": "https://localhost:8080/"
        },
        "id": "p1EKyHnnx9BA",
        "outputId": "b309eb25-64b6-46c3-835c-530b01b02ad9"
      },
      "source": [
        "list_name.pop()"
      ],
      "execution_count": null,
      "outputs": [
        {
          "output_type": "execute_result",
          "data": {
            "text/plain": [
              "8"
            ]
          },
          "metadata": {
            "tags": []
          },
          "execution_count": 30
        }
      ]
    },
    {
      "cell_type": "code",
      "metadata": {
        "id": "98V1zsChyJk4"
      },
      "source": [
        "list_name.remove(10)"
      ],
      "execution_count": null,
      "outputs": []
    },
    {
      "cell_type": "code",
      "metadata": {
        "colab": {
          "base_uri": "https://localhost:8080/"
        },
        "id": "5bRqh6GxyNO2",
        "outputId": "65598908-6b82-4759-ea02-8ac048e90c57"
      },
      "source": [
        "list_name.sort(reverse=True)\r\n",
        "list_name"
      ],
      "execution_count": null,
      "outputs": [
        {
          "output_type": "execute_result",
          "data": {
            "text/plain": [
              "[7, 6, 5]"
            ]
          },
          "metadata": {
            "tags": []
          },
          "execution_count": 34
        }
      ]
    },
    {
      "cell_type": "code",
      "metadata": {
        "colab": {
          "base_uri": "https://localhost:8080/"
        },
        "id": "EOGxrDU6yb0B",
        "outputId": "a10a1e5c-8e87-42ee-87ae-aa41d7bb3c64"
      },
      "source": [
        "list_name = [1,2,3,1,1,11,3,3,3,3]\r\n",
        "list_name.count(3)"
      ],
      "execution_count": null,
      "outputs": [
        {
          "output_type": "execute_result",
          "data": {
            "text/plain": [
              "5"
            ]
          },
          "metadata": {
            "tags": []
          },
          "execution_count": 37
        }
      ]
    },
    {
      "cell_type": "code",
      "metadata": {
        "id": "rOBsc1qkytL5"
      },
      "source": [
        "list_name = [1,2,3]\r\n",
        "second_list = [4,5,6]\r\n",
        "\r\n",
        "list_name.extend(second_list)"
      ],
      "execution_count": null,
      "outputs": []
    },
    {
      "cell_type": "code",
      "metadata": {
        "colab": {
          "base_uri": "https://localhost:8080/"
        },
        "id": "tTRuNIa-zMg0",
        "outputId": "c66d8528-aed5-435b-8a37-85baae76fe0e"
      },
      "source": [
        "list_name.index(3,0,5)"
      ],
      "execution_count": null,
      "outputs": [
        {
          "output_type": "execute_result",
          "data": {
            "text/plain": [
              "2"
            ]
          },
          "metadata": {
            "tags": []
          },
          "execution_count": 40
        }
      ]
    },
    {
      "cell_type": "code",
      "metadata": {
        "colab": {
          "base_uri": "https://localhost:8080/"
        },
        "id": "OhT6kM7rzOSe",
        "outputId": "c9daa02d-3ff3-485c-8210-68b98fc14af0"
      },
      "source": [
        "list_name.append(3)\r\n",
        "list_name.append(3)\r\n",
        "list_name"
      ],
      "execution_count": null,
      "outputs": [
        {
          "output_type": "execute_result",
          "data": {
            "text/plain": [
              "[1, 2, 3, 4, 5, 6, 3, 3]"
            ]
          },
          "metadata": {
            "tags": []
          },
          "execution_count": 42
        }
      ]
    },
    {
      "cell_type": "code",
      "metadata": {
        "colab": {
          "base_uri": "https://localhost:8080/"
        },
        "id": "fosO9SCszivJ",
        "outputId": "0dc5a69e-ef63-4a01-c3b3-e2e66f624872"
      },
      "source": [
        "list_name"
      ],
      "execution_count": null,
      "outputs": [
        {
          "output_type": "execute_result",
          "data": {
            "text/plain": [
              "[1, 2, 3, 4, 5, 6, 3, 3]"
            ]
          },
          "metadata": {
            "tags": []
          },
          "execution_count": 47
        }
      ]
    },
    {
      "cell_type": "code",
      "metadata": {
        "colab": {
          "base_uri": "https://localhost:8080/"
        },
        "id": "NUmCpcz5zt39",
        "outputId": "70437422-68fb-4605-e87b-4e7a0af60fbc"
      },
      "source": [
        "list_name.sort()\r\n",
        "print(list_name[5:])\r\n",
        "print(list_name[-3:])"
      ],
      "execution_count": null,
      "outputs": [
        {
          "output_type": "stream",
          "text": [
            "[4, 5, 6]\n",
            "[4, 5, 6]\n"
          ],
          "name": "stdout"
        }
      ]
    },
    {
      "cell_type": "code",
      "metadata": {
        "colab": {
          "base_uri": "https://localhost:8080/"
        },
        "id": "-AN4xx3S0MIm",
        "outputId": "31996a2a-9e35-433c-b72a-a34489791223"
      },
      "source": [
        "len(list_name)"
      ],
      "execution_count": null,
      "outputs": [
        {
          "output_type": "execute_result",
          "data": {
            "text/plain": [
              "8"
            ]
          },
          "metadata": {
            "tags": []
          },
          "execution_count": 70
        }
      ]
    },
    {
      "cell_type": "code",
      "metadata": {
        "colab": {
          "base_uri": "https://localhost:8080/"
        },
        "id": "RNWxZFQn00ea",
        "outputId": "184fabde-38c6-4d57-fbf5-01524007c370"
      },
      "source": [
        "sum(list_name)/len(list_name)"
      ],
      "execution_count": null,
      "outputs": [
        {
          "output_type": "execute_result",
          "data": {
            "text/plain": [
              "3.375"
            ]
          },
          "metadata": {
            "tags": []
          },
          "execution_count": 76
        }
      ]
    },
    {
      "cell_type": "code",
      "metadata": {
        "id": "Qxnf4qV915QJ"
      },
      "source": [
        "higher_order = [[[1,-1,-2],3,5,6,9],\r\n",
        "                [2,4,6,8,10],\r\n",
        "                [10,20,30],\r\n",
        "                [\"toyota\",\"volvo\",\"saab\"]]"
      ],
      "execution_count": null,
      "outputs": []
    },
    {
      "cell_type": "code",
      "metadata": {
        "colab": {
          "base_uri": "https://localhost:8080/"
        },
        "id": "FLi-xHm817NH",
        "outputId": "b5d26382-afd5-4d55-ff3a-b4e20e983506"
      },
      "source": [
        "higher_order[0][0][1]"
      ],
      "execution_count": null,
      "outputs": [
        {
          "output_type": "execute_result",
          "data": {
            "text/plain": [
              "-1"
            ]
          },
          "metadata": {
            "tags": []
          },
          "execution_count": 96
        }
      ]
    },
    {
      "cell_type": "code",
      "metadata": {
        "colab": {
          "base_uri": "https://localhost:8080/"
        },
        "id": "FJs9a8O32f9_",
        "outputId": "627cc11c-2593-497b-c2c3-13c94ffb574b"
      },
      "source": [
        "higher_order"
      ],
      "execution_count": null,
      "outputs": [
        {
          "output_type": "execute_result",
          "data": {
            "text/plain": [
              "[[1, 3, 5, 6, 9], [2, 4, 6, 8, 10], [10, 20, 30], 2]"
            ]
          },
          "metadata": {
            "tags": []
          },
          "execution_count": 89
        }
      ]
    },
    {
      "cell_type": "code",
      "metadata": {
        "id": "_sH-UvhJ4NSS"
      },
      "source": [
        "a = [1,2,3,4,5,6]"
      ],
      "execution_count": null,
      "outputs": []
    },
    {
      "cell_type": "code",
      "metadata": {
        "colab": {
          "base_uri": "https://localhost:8080/"
        },
        "id": "Yq_Ihp51B5U_",
        "outputId": "13b1d4e8-8370-466a-caee-81b9910215a3"
      },
      "source": [
        "a[0]"
      ],
      "execution_count": null,
      "outputs": [
        {
          "output_type": "execute_result",
          "data": {
            "text/plain": [
              "1"
            ]
          },
          "metadata": {
            "tags": []
          },
          "execution_count": 2
        }
      ]
    },
    {
      "cell_type": "code",
      "metadata": {
        "colab": {
          "base_uri": "https://localhost:8080/"
        },
        "id": "11KAt5I-C4f4",
        "outputId": "f09a984f-d803-41e4-caf1-c8ac6a93c1ee"
      },
      "source": [
        "a[5]"
      ],
      "execution_count": null,
      "outputs": [
        {
          "output_type": "execute_result",
          "data": {
            "text/plain": [
              "6"
            ]
          },
          "metadata": {
            "tags": []
          },
          "execution_count": 3
        }
      ]
    },
    {
      "cell_type": "code",
      "metadata": {
        "colab": {
          "base_uri": "https://localhost:8080/"
        },
        "id": "0etpS_FlC8gV",
        "outputId": "37791ef6-8b81-43e4-fd4b-e5ea7025c554"
      },
      "source": [
        "a[-1]"
      ],
      "execution_count": null,
      "outputs": [
        {
          "output_type": "execute_result",
          "data": {
            "text/plain": [
              "6"
            ]
          },
          "metadata": {
            "tags": []
          },
          "execution_count": 4
        }
      ]
    },
    {
      "cell_type": "code",
      "metadata": {
        "colab": {
          "base_uri": "https://localhost:8080/"
        },
        "id": "HZvH3CiJC-UA",
        "outputId": "c5af0f84-2bbb-48b9-a397-12ef0a1f0b65"
      },
      "source": [
        "a[-4:]"
      ],
      "execution_count": null,
      "outputs": [
        {
          "output_type": "execute_result",
          "data": {
            "text/plain": [
              "[3, 4, 5, 6]"
            ]
          },
          "metadata": {
            "tags": []
          },
          "execution_count": 5
        }
      ]
    },
    {
      "cell_type": "code",
      "metadata": {
        "colab": {
          "base_uri": "https://localhost:8080/"
        },
        "id": "CTy8ATVvDBT6",
        "outputId": "96f9d738-416a-4bca-8047-4ec0e1aa0001"
      },
      "source": [
        "a[-2:]"
      ],
      "execution_count": null,
      "outputs": [
        {
          "output_type": "execute_result",
          "data": {
            "text/plain": [
              "[5, 6]"
            ]
          },
          "metadata": {
            "tags": []
          },
          "execution_count": 6
        }
      ]
    },
    {
      "cell_type": "code",
      "metadata": {
        "id": "ydc8DdPyDdWu"
      },
      "source": [
        "a.append(10)"
      ],
      "execution_count": null,
      "outputs": []
    },
    {
      "cell_type": "code",
      "metadata": {
        "colab": {
          "base_uri": "https://localhost:8080/"
        },
        "id": "YTzvLUHPDwsi",
        "outputId": "2a0623a5-68a0-44e8-84bf-0b5fb256f695"
      },
      "source": [
        "a"
      ],
      "execution_count": null,
      "outputs": [
        {
          "output_type": "execute_result",
          "data": {
            "text/plain": [
              "[1, 2, 3, 4, 5, 6, 10]"
            ]
          },
          "metadata": {
            "tags": []
          },
          "execution_count": 8
        }
      ]
    },
    {
      "cell_type": "code",
      "metadata": {
        "colab": {
          "base_uri": "https://localhost:8080/"
        },
        "id": "vSZ90-YpDxnr",
        "outputId": "123ac850-ce2e-49fe-96ad-10e491dc517f"
      },
      "source": [
        "a.pop()"
      ],
      "execution_count": null,
      "outputs": [
        {
          "output_type": "execute_result",
          "data": {
            "text/plain": [
              "10"
            ]
          },
          "metadata": {
            "tags": []
          },
          "execution_count": 9
        }
      ]
    },
    {
      "cell_type": "code",
      "metadata": {
        "colab": {
          "base_uri": "https://localhost:8080/",
          "height": 162
        },
        "id": "NdLC8WzDD2FG",
        "outputId": "8f50b632-7647-4a8e-8fbe-08fa8cbfdaa3"
      },
      "source": [
        ""
      ],
      "execution_count": null,
      "outputs": [
        {
          "output_type": "error",
          "ename": "ValueError",
          "evalue": "ignored",
          "traceback": [
            "\u001b[0;31m---------------------------------------------------------------------------\u001b[0m",
            "\u001b[0;31mValueError\u001b[0m                                Traceback (most recent call last)",
            "\u001b[0;32m<ipython-input-12-2f6a2b387944>\u001b[0m in \u001b[0;36m<module>\u001b[0;34m()\u001b[0m\n\u001b[0;32m----> 1\u001b[0;31m \u001b[0ma\u001b[0m\u001b[0;34m.\u001b[0m\u001b[0mremove\u001b[0m\u001b[0;34m(\u001b[0m\u001b[0;36m11\u001b[0m\u001b[0;34m)\u001b[0m\u001b[0;34m\u001b[0m\u001b[0;34m\u001b[0m\u001b[0m\n\u001b[0m",
            "\u001b[0;31mValueError\u001b[0m: list.remove(x): x not in list"
          ]
        }
      ]
    },
    {
      "cell_type": "code",
      "metadata": {
        "colab": {
          "base_uri": "https://localhost:8080/"
        },
        "id": "YGNvrCwbDz2R",
        "outputId": "d4da0ac2-3038-4cd7-e84d-f5a354f1e966"
      },
      "source": [
        "a"
      ],
      "execution_count": null,
      "outputs": [
        {
          "output_type": "execute_result",
          "data": {
            "text/plain": [
              "[1, 2, 4, 5, 6]"
            ]
          },
          "metadata": {
            "tags": []
          },
          "execution_count": 11
        }
      ]
    },
    {
      "cell_type": "code",
      "metadata": {
        "id": "4_uvoOpZD7rf"
      },
      "source": [
        "b = (1,2,3,4)"
      ],
      "execution_count": null,
      "outputs": []
    },
    {
      "cell_type": "code",
      "metadata": {
        "id": "pf4L8x5zEJgA"
      },
      "source": [
        "b = ([1,2,3],10,13)"
      ],
      "execution_count": null,
      "outputs": []
    },
    {
      "cell_type": "code",
      "metadata": {
        "id": "k1X5JqzhEKr0"
      },
      "source": [
        "b[0][0] = 10"
      ],
      "execution_count": null,
      "outputs": []
    },
    {
      "cell_type": "code",
      "metadata": {
        "colab": {
          "base_uri": "https://localhost:8080/",
          "height": 162
        },
        "id": "J-hlXLvJEq5_",
        "outputId": "2e5bfde0-2a15-43ae-bb41-1c45b4df93c5"
      },
      "source": [
        "b[1] = 13"
      ],
      "execution_count": null,
      "outputs": [
        {
          "output_type": "error",
          "ename": "TypeError",
          "evalue": "ignored",
          "traceback": [
            "\u001b[0;31m---------------------------------------------------------------------------\u001b[0m",
            "\u001b[0;31mTypeError\u001b[0m                                 Traceback (most recent call last)",
            "\u001b[0;32m<ipython-input-20-f577c32822f5>\u001b[0m in \u001b[0;36m<module>\u001b[0;34m()\u001b[0m\n\u001b[0;32m----> 1\u001b[0;31m \u001b[0mb\u001b[0m\u001b[0;34m[\u001b[0m\u001b[0;36m1\u001b[0m\u001b[0;34m]\u001b[0m \u001b[0;34m=\u001b[0m \u001b[0;36m13\u001b[0m\u001b[0;34m\u001b[0m\u001b[0;34m\u001b[0m\u001b[0m\n\u001b[0m",
            "\u001b[0;31mTypeError\u001b[0m: 'tuple' object does not support item assignment"
          ]
        }
      ]
    },
    {
      "cell_type": "code",
      "metadata": {
        "colab": {
          "base_uri": "https://localhost:8080/"
        },
        "id": "qbJji9F4EuYO",
        "outputId": "41b1119a-3576-49e7-d3c2-06f269417355"
      },
      "source": [
        "a"
      ],
      "execution_count": null,
      "outputs": [
        {
          "output_type": "execute_result",
          "data": {
            "text/plain": [
              "[1, 2, 4, 5, 6]"
            ]
          },
          "metadata": {
            "tags": []
          },
          "execution_count": 21
        }
      ]
    },
    {
      "cell_type": "code",
      "metadata": {
        "colab": {
          "base_uri": "https://localhost:8080/"
        },
        "id": "nu5-LQGRFPXO",
        "outputId": "e0214351-ad24-4608-c2c3-202d3cc375d0"
      },
      "source": [
        "a[0]\r\n",
        "a[1]"
      ],
      "execution_count": null,
      "outputs": [
        {
          "output_type": "execute_result",
          "data": {
            "text/plain": [
              "2"
            ]
          },
          "metadata": {
            "tags": []
          },
          "execution_count": 22
        }
      ]
    },
    {
      "cell_type": "code",
      "metadata": {
        "id": "nhxDOcZzFQ3t"
      },
      "source": [
        "c = {\"name\":\"Ahsan\",\"age\":10,\"salary\":1000}"
      ],
      "execution_count": null,
      "outputs": []
    },
    {
      "cell_type": "code",
      "metadata": {
        "id": "KiS5KHBGFj0S"
      },
      "source": [
        "c[\"salary\"] = 2000"
      ],
      "execution_count": null,
      "outputs": []
    },
    {
      "cell_type": "code",
      "metadata": {
        "id": "fS72NvkDFvL0"
      },
      "source": [
        "c = {\"chapters\":[\r\n",
        "                 {\"id\":1,\"name\":\"first\"},\r\n",
        "                 {\"id\":2,\"name\":\"second\"}\r\n",
        "                 ],\r\n",
        "     \"books\":{\"hello\":[1,2,3]}\r\n",
        "     }"
      ],
      "execution_count": null,
      "outputs": []
    },
    {
      "cell_type": "code",
      "metadata": {
        "colab": {
          "base_uri": "https://localhost:8080/"
        },
        "id": "AjphKsiTF6Pv",
        "outputId": "78330a30-c6de-4c35-ac1e-fa8a472834fa"
      },
      "source": [
        "c[\"chapters\"][0][\"id\"]"
      ],
      "execution_count": null,
      "outputs": [
        {
          "output_type": "execute_result",
          "data": {
            "text/plain": [
              "1"
            ]
          },
          "metadata": {
            "tags": []
          },
          "execution_count": 35
        }
      ]
    },
    {
      "cell_type": "code",
      "metadata": {
        "id": "HMtvVMsuG-Ib"
      },
      "source": [
        "d = {'c':\"ahsan\",2:\"python\"}"
      ],
      "execution_count": null,
      "outputs": []
    },
    {
      "cell_type": "code",
      "metadata": {
        "colab": {
          "base_uri": "https://localhost:8080/",
          "height": 35
        },
        "id": "UvNgx-fjHYDq",
        "outputId": "4ca40d7d-d04f-4769-a248-435461f2d8b1"
      },
      "source": [
        "d['c']"
      ],
      "execution_count": null,
      "outputs": [
        {
          "output_type": "execute_result",
          "data": {
            "application/vnd.google.colaboratory.intrinsic+json": {
              "type": "string"
            },
            "text/plain": [
              "'ahsan'"
            ]
          },
          "metadata": {
            "tags": []
          },
          "execution_count": 40
        }
      ]
    },
    {
      "cell_type": "code",
      "metadata": {
        "colab": {
          "base_uri": "https://localhost:8080/"
        },
        "id": "T8po86ghHZLk",
        "outputId": "002ff8a1-63e8-404e-e186-88bc09d25a4c"
      },
      "source": [
        "len(c[\"books\"][\"hello\"])"
      ],
      "execution_count": null,
      "outputs": [
        {
          "output_type": "execute_result",
          "data": {
            "text/plain": [
              "3"
            ]
          },
          "metadata": {
            "tags": []
          },
          "execution_count": 47
        }
      ]
    },
    {
      "cell_type": "code",
      "metadata": {
        "id": "-pK9uBtDHvI_"
      },
      "source": [
        "f = {**c, **d}"
      ],
      "execution_count": null,
      "outputs": []
    },
    {
      "cell_type": "code",
      "metadata": {
        "colab": {
          "base_uri": "https://localhost:8080/",
          "height": 162
        },
        "id": "Off9ibSqItpR",
        "outputId": "68f93afc-7b97-4b20-8fe5-266726419fac"
      },
      "source": [
        "print(**c)"
      ],
      "execution_count": null,
      "outputs": [
        {
          "output_type": "error",
          "ename": "TypeError",
          "evalue": "ignored",
          "traceback": [
            "\u001b[0;31m---------------------------------------------------------------------------\u001b[0m",
            "\u001b[0;31mTypeError\u001b[0m                                 Traceback (most recent call last)",
            "\u001b[0;32m<ipython-input-129-0789b9289bd9>\u001b[0m in \u001b[0;36m<module>\u001b[0;34m()\u001b[0m\n\u001b[0;32m----> 1\u001b[0;31m \u001b[0mprint\u001b[0m\u001b[0;34m(\u001b[0m\u001b[0;34m**\u001b[0m\u001b[0mc\u001b[0m\u001b[0;34m)\u001b[0m\u001b[0;34m\u001b[0m\u001b[0;34m\u001b[0m\u001b[0m\n\u001b[0m",
            "\u001b[0;31mTypeError\u001b[0m: 'chapters' is an invalid keyword argument for print()"
          ]
        }
      ]
    },
    {
      "cell_type": "code",
      "metadata": {
        "colab": {
          "base_uri": "https://localhost:8080/"
        },
        "id": "33y6H8mMI1r8",
        "outputId": "9c1297a4-d276-4bac-beb1-fec3afab5dc2"
      },
      "source": [
        "f.items()"
      ],
      "execution_count": null,
      "outputs": [
        {
          "output_type": "execute_result",
          "data": {
            "text/plain": [
              "dict_items([('chapters', [{'id': 1, 'name': 'first'}, {'id': 2, 'name': 'second'}]), ('books', {'hello': [1, 2, 3]}), ('c', 'ahsan'), (2, 'python')])"
            ]
          },
          "metadata": {
            "tags": []
          },
          "execution_count": 52
        }
      ]
    },
    {
      "cell_type": "code",
      "metadata": {
        "colab": {
          "base_uri": "https://localhost:8080/"
        },
        "id": "MdGG3lAyJJlc",
        "outputId": "14adb3a1-a32f-410b-d8e3-718b3911e167"
      },
      "source": [
        "f.keys()"
      ],
      "execution_count": null,
      "outputs": [
        {
          "output_type": "execute_result",
          "data": {
            "text/plain": [
              "dict_keys(['chapters', 'books', 'c', 2])"
            ]
          },
          "metadata": {
            "tags": []
          },
          "execution_count": 53
        }
      ]
    },
    {
      "cell_type": "code",
      "metadata": {
        "colab": {
          "base_uri": "https://localhost:8080/"
        },
        "id": "QT9QlwOrJbV4",
        "outputId": "acf212ad-8fbb-4b94-e92b-7b46741d1b97"
      },
      "source": [
        "f.values()"
      ],
      "execution_count": null,
      "outputs": [
        {
          "output_type": "execute_result",
          "data": {
            "text/plain": [
              "dict_values([[{'id': 1, 'name': 'first'}, {'id': 2, 'name': 'second'}], {'hello': [1, 2, 3]}, 'ahsan', 'python'])"
            ]
          },
          "metadata": {
            "tags": []
          },
          "execution_count": 54
        }
      ]
    },
    {
      "cell_type": "code",
      "metadata": {
        "id": "yF8WYDatJgHM"
      },
      "source": [
        "f[\"c\"] = 'this'"
      ],
      "execution_count": null,
      "outputs": []
    },
    {
      "cell_type": "code",
      "metadata": {
        "id": "aQmney5CJy43"
      },
      "source": [
        "f.update({'c':'ahsan'})"
      ],
      "execution_count": null,
      "outputs": []
    },
    {
      "cell_type": "code",
      "metadata": {
        "id": "SvKs72ckJzUj"
      },
      "source": [
        "f[\"books\"].update({'hello':[2,3,4]})\r\n",
        "#f['hello'] = [2,4,6]"
      ],
      "execution_count": null,
      "outputs": []
    },
    {
      "cell_type": "code",
      "metadata": {
        "colab": {
          "base_uri": "https://localhost:8080/"
        },
        "id": "qvHIQfMeJ7eB",
        "outputId": "94869bf6-0d85-4b96-f540-5b00235e110c"
      },
      "source": [
        "f"
      ],
      "execution_count": null,
      "outputs": [
        {
          "output_type": "execute_result",
          "data": {
            "text/plain": [
              "{2: 'python',\n",
              " 'books': {'hello': [2, 3, 4]},\n",
              " 'c': 'ahsan',\n",
              " 'chapters': [{'id': 1, 'name': 'first'}, {'id': 2, 'name': 'second'}],\n",
              " 'hello': [2, 3, 4],\n",
              " 'newkey': {'name': 'fast'}}"
            ]
          },
          "metadata": {
            "tags": []
          },
          "execution_count": 64
        }
      ]
    },
    {
      "cell_type": "code",
      "metadata": {
        "id": "uwIQKQu5KHP-"
      },
      "source": [
        "f['newkey'] = {\r\n",
        "    \"name\":\"fast\"\r\n",
        "}"
      ],
      "execution_count": null,
      "outputs": []
    },
    {
      "cell_type": "code",
      "metadata": {
        "colab": {
          "base_uri": "https://localhost:8080/"
        },
        "id": "I3hCrTv2KVZ_",
        "outputId": "0dd39059-751c-4135-d4f6-7a1539e21212"
      },
      "source": [
        "f"
      ],
      "execution_count": null,
      "outputs": [
        {
          "output_type": "execute_result",
          "data": {
            "text/plain": [
              "{2: 'python',\n",
              " 'books': {'hello': [1, 2, 3]},\n",
              " 'c': 'ahsan',\n",
              " 'chapters': [{'id': 1, 'name': 'first'}, {'id': 2, 'name': 'second'}],\n",
              " 'hello': [2, 3, 4],\n",
              " 'newkey': {'name': 'fast'}}"
            ]
          },
          "metadata": {
            "tags": []
          },
          "execution_count": 62
        }
      ]
    },
    {
      "cell_type": "code",
      "metadata": {
        "id": "LhqW1NXHKWBJ"
      },
      "source": [
        "# While loop\r\n",
        "# for loop\r\n",
        "# do-while loop - X doesnt exist. "
      ],
      "execution_count": null,
      "outputs": []
    },
    {
      "cell_type": "code",
      "metadata": {
        "colab": {
          "base_uri": "https://localhost:8080/"
        },
        "id": "GnrbvgFBK0uN",
        "outputId": "aacfe8a8-d476-480a-8d88-e05695ce4a84"
      },
      "source": [
        "i = 0\r\n",
        "while(i<10):\r\n",
        "  i = i+1\r\n",
        "  print(i)\r\n"
      ],
      "execution_count": null,
      "outputs": [
        {
          "output_type": "stream",
          "text": [
            "1\n",
            "2\n",
            "3\n",
            "4\n",
            "5\n",
            "6\n",
            "7\n",
            "8\n",
            "9\n",
            "10\n"
          ],
          "name": "stdout"
        }
      ]
    },
    {
      "cell_type": "code",
      "metadata": {
        "colab": {
          "base_uri": "https://localhost:8080/"
        },
        "id": "RZFhHw2hLByb",
        "outputId": "79e6b2a9-d92a-4d6e-ce3f-fc4271b05218"
      },
      "source": [
        "a = [\"a\",'b','c','d']\r\n",
        "for i in a:\r\n",
        "  print(i)\r\n"
      ],
      "execution_count": null,
      "outputs": [
        {
          "output_type": "stream",
          "text": [
            "a\n",
            "b\n",
            "c\n",
            "d\n"
          ],
          "name": "stdout"
        }
      ]
    },
    {
      "cell_type": "code",
      "metadata": {
        "colab": {
          "base_uri": "https://localhost:8080/"
        },
        "id": "17Cmkx4rLVqD",
        "outputId": "a2f561c1-8de0-4ecd-883a-2c9007aa8432"
      },
      "source": [
        ""
      ],
      "execution_count": null,
      "outputs": [
        {
          "output_type": "execute_result",
          "data": {
            "text/plain": [
              "range(0, 10)"
            ]
          },
          "metadata": {
            "tags": []
          },
          "execution_count": 68
        }
      ]
    },
    {
      "cell_type": "code",
      "metadata": {
        "colab": {
          "base_uri": "https://localhost:8080/"
        },
        "id": "Q1R_HoevLdVW",
        "outputId": "e5ec0593-d845-47fe-91b8-a2bae421203f"
      },
      "source": [
        "f"
      ],
      "execution_count": null,
      "outputs": [
        {
          "output_type": "execute_result",
          "data": {
            "text/plain": [
              "{2: 'python',\n",
              " 'books': {'hello': [2, 3, 4]},\n",
              " 'c': 'ahsan',\n",
              " 'chapters': [{'id': 1, 'name': 'first'}, {'id': 2, 'name': 'second'}],\n",
              " 'hello': [2, 3, 4],\n",
              " 'newkey': {'name': 'fast'}}"
            ]
          },
          "metadata": {
            "tags": []
          },
          "execution_count": 74
        }
      ]
    },
    {
      "cell_type": "code",
      "metadata": {
        "colab": {
          "base_uri": "https://localhost:8080/"
        },
        "id": "Br_LzN4cMlyM",
        "outputId": "0dedc7c9-172e-4fcb-fa4c-9223d41b06be"
      },
      "source": [
        "f.keys()"
      ],
      "execution_count": null,
      "outputs": [
        {
          "output_type": "execute_result",
          "data": {
            "text/plain": [
              "dict_keys(['chapters', 'books', 'c', 2, 'hello', 'newkey'])"
            ]
          },
          "metadata": {
            "tags": []
          },
          "execution_count": 75
        }
      ]
    },
    {
      "cell_type": "code",
      "metadata": {
        "colab": {
          "base_uri": "https://localhost:8080/"
        },
        "id": "f266HXfIMnk-",
        "outputId": "bc274190-f848-47e4-e656-39e3e535f22d"
      },
      "source": [
        "for i in f.keys():\r\n",
        "  print(f[i],end=\"\\n------\\n\")"
      ],
      "execution_count": null,
      "outputs": [
        {
          "output_type": "stream",
          "text": [
            "[{'id': 1, 'name': 'first'}, {'id': 2, 'name': 'second'}]\n",
            "------\n",
            "{'hello': [2, 3, 4]}\n",
            "------\n",
            "ahsan\n",
            "------\n",
            "python\n",
            "------\n",
            "[2, 3, 4]\n",
            "------\n",
            "{'name': 'fast'}\n",
            "------\n"
          ],
          "name": "stdout"
        }
      ]
    },
    {
      "cell_type": "code",
      "metadata": {
        "id": "O7kxkGgsMsIo"
      },
      "source": [
        "b = (1,2,3)"
      ],
      "execution_count": null,
      "outputs": []
    },
    {
      "cell_type": "code",
      "metadata": {
        "colab": {
          "base_uri": "https://localhost:8080/"
        },
        "id": "-oAvCmZuM-mo",
        "outputId": "aad454e4-7268-48fa-a391-8dd0ed8651a6"
      },
      "source": [
        "for j in b:\r\n",
        "  print(j)"
      ],
      "execution_count": null,
      "outputs": [
        {
          "output_type": "stream",
          "text": [
            "1\n",
            "2\n",
            "3\n"
          ],
          "name": "stdout"
        }
      ]
    },
    {
      "cell_type": "code",
      "metadata": {
        "id": "j3awWsaZNAYD"
      },
      "source": [
        "x = [1,2,3,4,5,7]\r\n",
        "y = []"
      ],
      "execution_count": null,
      "outputs": []
    },
    {
      "cell_type": "code",
      "metadata": {
        "id": "ytkirU_nNfhH"
      },
      "source": [
        "for i in x:\r\n",
        "  if(i%2==0):\r\n",
        "    y.append(2*i)"
      ],
      "execution_count": null,
      "outputs": []
    },
    {
      "cell_type": "code",
      "metadata": {
        "id": "lWy7f9g3NhVC"
      },
      "source": [
        "y = [2*i for i in x if i%2==0]"
      ],
      "execution_count": null,
      "outputs": []
    },
    {
      "cell_type": "code",
      "metadata": {
        "colab": {
          "base_uri": "https://localhost:8080/"
        },
        "id": "_Gz-C0rGNqN7",
        "outputId": "7500d316-51af-407d-ddfc-1462c7a9ebe0"
      },
      "source": [
        "y"
      ],
      "execution_count": null,
      "outputs": [
        {
          "output_type": "execute_result",
          "data": {
            "text/plain": [
              "[4, 8]"
            ]
          },
          "metadata": {
            "tags": []
          },
          "execution_count": 102
        }
      ]
    },
    {
      "cell_type": "code",
      "metadata": {
        "colab": {
          "base_uri": "https://localhost:8080/"
        },
        "id": "WZodejjHOGaA",
        "outputId": "b4e9f54d-bd62-4316-a985-6937d501efe3"
      },
      "source": [
        "for i in range(0,100,20):\r\n",
        "  print(i)\r\n",
        "  if(i==30):\r\n",
        "    break\r\n",
        "  print(\"this is printed\")\r\n",
        "else:\r\n",
        "  print(\"Finished for loop\")\r\n",
        "\r\n",
        "\r\n",
        "  "
      ],
      "execution_count": null,
      "outputs": [
        {
          "output_type": "stream",
          "text": [
            "0\n",
            "this is printed\n",
            "20\n",
            "this is printed\n",
            "40\n",
            "this is printed\n",
            "60\n",
            "this is printed\n",
            "80\n",
            "this is printed\n",
            "Finished for loop\n"
          ],
          "name": "stdout"
        }
      ]
    },
    {
      "cell_type": "code",
      "metadata": {
        "colab": {
          "base_uri": "https://localhost:8080/"
        },
        "id": "3M5zVaMqOhUm",
        "outputId": "6274594b-a9e9-45e0-dd9b-b15760c1fe03"
      },
      "source": [
        "for i in range(100):\r\n",
        "  \r\n",
        "  if(i%2==0):\r\n",
        "    continue\r\n",
        "  else:\r\n",
        "    print(i,\"this\")\r\n",
        "  print(i)\r\n"
      ],
      "execution_count": null,
      "outputs": [
        {
          "output_type": "stream",
          "text": [
            "1 this\n",
            "1\n",
            "3 this\n",
            "3\n",
            "5 this\n",
            "5\n",
            "7 this\n",
            "7\n",
            "9 this\n",
            "9\n",
            "11 this\n",
            "11\n",
            "13 this\n",
            "13\n",
            "15 this\n",
            "15\n",
            "17 this\n",
            "17\n",
            "19 this\n",
            "19\n",
            "21 this\n",
            "21\n",
            "23 this\n",
            "23\n",
            "25 this\n",
            "25\n",
            "27 this\n",
            "27\n",
            "29 this\n",
            "29\n",
            "31 this\n",
            "31\n",
            "33 this\n",
            "33\n",
            "35 this\n",
            "35\n",
            "37 this\n",
            "37\n",
            "39 this\n",
            "39\n",
            "41 this\n",
            "41\n",
            "43 this\n",
            "43\n",
            "45 this\n",
            "45\n",
            "47 this\n",
            "47\n",
            "49 this\n",
            "49\n",
            "51 this\n",
            "51\n",
            "53 this\n",
            "53\n",
            "55 this\n",
            "55\n",
            "57 this\n",
            "57\n",
            "59 this\n",
            "59\n",
            "61 this\n",
            "61\n",
            "63 this\n",
            "63\n",
            "65 this\n",
            "65\n",
            "67 this\n",
            "67\n",
            "69 this\n",
            "69\n",
            "71 this\n",
            "71\n",
            "73 this\n",
            "73\n",
            "75 this\n",
            "75\n",
            "77 this\n",
            "77\n",
            "79 this\n",
            "79\n",
            "81 this\n",
            "81\n",
            "83 this\n",
            "83\n",
            "85 this\n",
            "85\n",
            "87 this\n",
            "87\n",
            "89 this\n",
            "89\n",
            "91 this\n",
            "91\n",
            "93 this\n",
            "93\n",
            "95 this\n",
            "95\n",
            "97 this\n",
            "97\n",
            "99 this\n",
            "99\n"
          ],
          "name": "stdout"
        }
      ]
    },
    {
      "cell_type": "code",
      "metadata": {
        "colab": {
          "base_uri": "https://localhost:8080/"
        },
        "id": "jn-vVIwrQM1Z",
        "outputId": "82a56380-d685-4eae-924b-1a91677ae7ff"
      },
      "source": [
        "a = [i*2 for i in range(0,10)]\r\n",
        "a"
      ],
      "execution_count": null,
      "outputs": [
        {
          "output_type": "execute_result",
          "data": {
            "text/plain": [
              "[0, 2, 4, 6, 8, 10, 12, 14, 16, 18]"
            ]
          },
          "metadata": {
            "tags": []
          },
          "execution_count": 122
        }
      ]
    },
    {
      "cell_type": "code",
      "metadata": {
        "colab": {
          "base_uri": "https://localhost:8080/"
        },
        "id": "CoaYqifzRNmF",
        "outputId": "644e8e74-a8b4-47db-df06-01ba67a75c45"
      },
      "source": [
        "for i in range(len(a)):\r\n",
        "  print(i,\"-\",a[i])"
      ],
      "execution_count": null,
      "outputs": [
        {
          "output_type": "stream",
          "text": [
            "0 - 0\n",
            "1 - 2\n",
            "2 - 4\n",
            "3 - 6\n",
            "4 - 8\n",
            "5 - 10\n",
            "6 - 12\n",
            "7 - 14\n",
            "8 - 16\n",
            "9 - 18\n"
          ],
          "name": "stdout"
        }
      ]
    },
    {
      "cell_type": "code",
      "metadata": {
        "colab": {
          "base_uri": "https://localhost:8080/"
        },
        "id": "az5rP_S6Rh3z",
        "outputId": "3c98e7e0-4619-4179-8f7e-1b6138c03ee6"
      },
      "source": [
        "for i,j in enumerate(a):\r\n",
        "  print(i,j)"
      ],
      "execution_count": null,
      "outputs": [
        {
          "output_type": "stream",
          "text": [
            "0 0\n",
            "1 2\n",
            "2 4\n",
            "3 6\n",
            "4 8\n",
            "5 10\n",
            "6 12\n",
            "7 14\n",
            "8 16\n",
            "9 18\n"
          ],
          "name": "stdout"
        }
      ]
    },
    {
      "cell_type": "code",
      "metadata": {
        "id": "Asne91vFRw7y"
      },
      "source": [
        "a = [1,2,3]\r\n",
        "b = [*a,3,4]"
      ],
      "execution_count": null,
      "outputs": []
    },
    {
      "cell_type": "code",
      "metadata": {
        "colab": {
          "base_uri": "https://localhost:8080/"
        },
        "id": "MTs2dabLTBHP",
        "outputId": "08a093f5-6bb3-4eb6-9186-643055def4e0"
      },
      "source": [
        "c"
      ],
      "execution_count": null,
      "outputs": [
        {
          "output_type": "execute_result",
          "data": {
            "text/plain": [
              "{'books': {'hello': [2, 3, 4]},\n",
              " 'chapters': [{'id': 1, 'name': 'first'}, {'id': 2, 'name': 'second'}]}"
            ]
          },
          "metadata": {
            "tags": []
          },
          "execution_count": 135
        }
      ]
    },
    {
      "cell_type": "code",
      "metadata": {
        "colab": {
          "base_uri": "https://localhost:8080/"
        },
        "id": "nu7G3qzRTBzb",
        "outputId": "81246ddb-7c8f-424e-c6e8-8619f4a60410"
      },
      "source": [
        "d"
      ],
      "execution_count": null,
      "outputs": [
        {
          "output_type": "execute_result",
          "data": {
            "text/plain": [
              "{2: 'python', 'c': 'ahsan'}"
            ]
          },
          "metadata": {
            "tags": []
          },
          "execution_count": 136
        }
      ]
    },
    {
      "cell_type": "code",
      "metadata": {
        "id": "uqsyWMm1TKh8"
      },
      "source": [
        "e = {**c,**d}"
      ],
      "execution_count": null,
      "outputs": []
    },
    {
      "cell_type": "code",
      "metadata": {
        "colab": {
          "base_uri": "https://localhost:8080/"
        },
        "id": "Au5jghgUTNtg",
        "outputId": "be9ff69b-5f56-4444-ce03-730294b7524d"
      },
      "source": [
        "e"
      ],
      "execution_count": null,
      "outputs": [
        {
          "output_type": "execute_result",
          "data": {
            "text/plain": [
              "{2: 'python',\n",
              " 'books': {'hello': [2, 3, 4]},\n",
              " 'c': 'ahsan',\n",
              " 'chapters': [{'id': 1, 'name': 'first'}, {'id': 2, 'name': 'second'}]}"
            ]
          },
          "metadata": {
            "tags": []
          },
          "execution_count": 142
        }
      ]
    },
    {
      "cell_type": "code",
      "metadata": {
        "colab": {
          "base_uri": "https://localhost:8080/"
        },
        "id": "jKZNk1n4TOEL",
        "outputId": "2aec58ab-618b-404e-8f83-830915794329"
      },
      "source": [
        "y = [[1,2,3],[4,5,6]]\r\n",
        "h = [z for x in y for z in x]\r\n",
        "h"
      ],
      "execution_count": null,
      "outputs": [
        {
          "output_type": "execute_result",
          "data": {
            "text/plain": [
              "[1, 2, 3, 4, 5, 6]"
            ]
          },
          "metadata": {
            "tags": []
          },
          "execution_count": 159
        }
      ]
    },
    {
      "cell_type": "code",
      "metadata": {
        "colab": {
          "base_uri": "https://localhost:8080/"
        },
        "id": "nTC3Dl2PTqsO",
        "outputId": "86159425-eaf8-490a-e80d-cfb61a9f1b0c"
      },
      "source": [
        "for x in y:\r\n",
        "  for z in x:\r\n",
        "    print(z)"
      ],
      "execution_count": null,
      "outputs": [
        {
          "output_type": "stream",
          "text": [
            "1\n",
            "2\n",
            "3\n",
            "4\n",
            "5\n",
            "6\n"
          ],
          "name": "stdout"
        }
      ]
    },
    {
      "cell_type": "code",
      "metadata": {
        "id": "QoBWNNmpUdN-"
      },
      "source": [
        "\r\n"
      ],
      "execution_count": null,
      "outputs": []
    },
    {
      "cell_type": "code",
      "metadata": {
        "id": "QWHJyCZmI0ta"
      },
      "source": [
        "#functions\r\n",
        "  ## Positional and keyword arguments\r\n",
        "  ## Returning values and assigning to the variables\r\n",
        "  ## Multiple return types?? \r\n",
        "#classes"
      ],
      "execution_count": null,
      "outputs": []
    },
    {
      "cell_type": "code",
      "metadata": {
        "id": "Q3NZ9QbqJD74"
      },
      "source": [
        "def function_name():\r\n",
        "  print(\"Hello World\")"
      ],
      "execution_count": null,
      "outputs": []
    },
    {
      "cell_type": "code",
      "metadata": {
        "colab": {
          "base_uri": "https://localhost:8080/"
        },
        "id": "69L5oJDMJ-TI",
        "outputId": "31756790-f043-4bd4-da60-c8f4a1c99266"
      },
      "source": [
        "function_name()"
      ],
      "execution_count": null,
      "outputs": [
        {
          "output_type": "stream",
          "text": [
            "Hello World\n"
          ],
          "name": "stdout"
        }
      ]
    },
    {
      "cell_type": "code",
      "metadata": {
        "id": "U1mZY5KjJ_QT"
      },
      "source": [
        "def range_of_values(start,end):\r\n",
        "  return list(range(start,end))\r\n",
        "\r\n",
        "def multiplication(first,second):\r\n",
        "  return first*second\r\n",
        "\r\n",
        "def returninglists():\r\n",
        "  return [[1,2,3],[4,5,6]]"
      ],
      "execution_count": null,
      "outputs": []
    },
    {
      "cell_type": "code",
      "metadata": {
        "id": "w3WRZCXaKfby"
      },
      "source": [
        "a,b = multiplication(0,10)\r\n",
        "\r\n",
        "a  = range_of_values(end=10,start=0)\r\n",
        "\r\n",
        "\r\n",
        "a,b = returninglists()"
      ],
      "execution_count": null,
      "outputs": []
    },
    {
      "cell_type": "code",
      "metadata": {
        "colab": {
          "base_uri": "https://localhost:8080/"
        },
        "id": "zYmDIqduKhee",
        "outputId": "5b13665d-9eb9-401b-b4ec-f64969b7823b"
      },
      "source": [
        "b"
      ],
      "execution_count": null,
      "outputs": [
        {
          "output_type": "execute_result",
          "data": {
            "text/plain": [
              "[4, 5, 6]"
            ]
          },
          "metadata": {
            "tags": []
          },
          "execution_count": 51
        }
      ]
    },
    {
      "cell_type": "code",
      "metadata": {
        "id": "7ge3LCqoK72v"
      },
      "source": [
        "def fivevalsummary(min,fq,median,tq,max):\r\n",
        "  print(\"min=\",min)\r\n",
        "  print(\"fq=\",fq)\r\n",
        "  print(\"median=\",median)\r\n",
        "  print(\"tq=\",tq)\r\n",
        "  print(\"max=\",max)\r\n",
        "  "
      ],
      "execution_count": null,
      "outputs": []
    },
    {
      "cell_type": "code",
      "metadata": {
        "colab": {
          "base_uri": "https://localhost:8080/"
        },
        "id": "t6qGAEtyM4uD",
        "outputId": "a1c2beca-2895-4945-de06-4abc308b2d49"
      },
      "source": [
        "fivevalsummary(max=0,tq=1,fq=3,min=4,median=2)"
      ],
      "execution_count": null,
      "outputs": [
        {
          "output_type": "stream",
          "text": [
            "min= 4\n",
            "fq= 3\n",
            "median= 2\n",
            "tq= 1\n",
            "max= 0\n"
          ],
          "name": "stdout"
        }
      ]
    },
    {
      "cell_type": "code",
      "metadata": {
        "id": "Z6P1DEQnM7af"
      },
      "source": [
        "def printingdata(name,age,**otherinfo):\r\n",
        "  print(\"name=\",name)\r\n",
        "  print(\"age=\",age)\r\n",
        "  for key,value in otherinfo.items():\r\n",
        "    print(key,\":\",value)"
      ],
      "execution_count": null,
      "outputs": []
    },
    {
      "cell_type": "code",
      "metadata": {
        "colab": {
          "base_uri": "https://localhost:8080/"
        },
        "id": "XThuH1irOY-L",
        "outputId": "35f7e803-b297-4e40-e649-9f94951f2f54"
      },
      "source": [
        "printingdata(name=\"ahsan\",age=\"12\",house=22,gpa=3.3)"
      ],
      "execution_count": null,
      "outputs": [
        {
          "output_type": "stream",
          "text": [
            "name= ahsan\n",
            "age= 12\n",
            "house : 22\n",
            "gpa : 3.3\n"
          ],
          "name": "stdout"
        }
      ]
    },
    {
      "cell_type": "code",
      "metadata": {
        "colab": {
          "base_uri": "https://localhost:8080/"
        },
        "id": "Lt69gEgNOegI",
        "outputId": "60810a69-5e52-4a70-df61-31407ae0856a"
      },
      "source": [
        "#(2*3)+10\r\n",
        "\r\n",
        "multiplication(2,3)+10"
      ],
      "execution_count": null,
      "outputs": [
        {
          "output_type": "execute_result",
          "data": {
            "text/plain": [
              "16"
            ]
          },
          "metadata": {
            "tags": []
          },
          "execution_count": 56
        }
      ]
    },
    {
      "cell_type": "code",
      "metadata": {
        "id": "Q380mAsgO55w"
      },
      "source": [
        "def get_name():\r\n",
        "  username = input(\"enter your name\")\r\n",
        "  return username"
      ],
      "execution_count": null,
      "outputs": []
    },
    {
      "cell_type": "code",
      "metadata": {
        "colab": {
          "base_uri": "https://localhost:8080/"
        },
        "id": "Am83rs5bPJMq",
        "outputId": "6c4931dc-4986-4a7a-b674-9ea8b2c84be3"
      },
      "source": [
        "print(\"Hello! \",get_name())"
      ],
      "execution_count": null,
      "outputs": [
        {
          "output_type": "stream",
          "text": [
            "enter your nameAhsan\n",
            "Hello!  Ahsan\n"
          ],
          "name": "stdout"
        }
      ]
    },
    {
      "cell_type": "code",
      "metadata": {
        "colab": {
          "base_uri": "https://localhost:8080/"
        },
        "id": "4oF9FtoKPMpE",
        "outputId": "82fb7a37-e356-4729-c4c3-9e7ea4014949"
      },
      "source": [
        "a = 10\r\n",
        "def variablescope():\r\n",
        "  global a\r\n",
        "  a = 20\r\n",
        "  print(a)\r\n",
        "variablescope()\r\n",
        "print(a)"
      ],
      "execution_count": null,
      "outputs": [
        {
          "output_type": "stream",
          "text": [
            "20\n",
            "20\n"
          ],
          "name": "stdout"
        }
      ]
    },
    {
      "cell_type": "code",
      "metadata": {
        "id": "6OS85iNkPjnM"
      },
      "source": [
        "def first():\r\n",
        "  print(\"This is first function\")\r\n",
        "\r\n",
        "def second():\r\n",
        "  first()\r\n",
        "  print(\"this is second function\")\r\n",
        "\r\n",
        "def third():\r\n",
        "  second()\r\n",
        "  print(\"this is third function\")"
      ],
      "execution_count": null,
      "outputs": []
    },
    {
      "cell_type": "code",
      "metadata": {
        "colab": {
          "base_uri": "https://localhost:8080/"
        },
        "id": "NGhQu0RMQPWM",
        "outputId": "cabef7d2-ca8f-48d3-ffb4-fecfc317e709"
      },
      "source": [
        "third()"
      ],
      "execution_count": null,
      "outputs": [
        {
          "output_type": "stream",
          "text": [
            "This is first function\n",
            "this is second function\n",
            "this is third function\n"
          ],
          "name": "stdout"
        }
      ]
    },
    {
      "cell_type": "code",
      "metadata": {
        "id": "KbU2j6VXQQj9"
      },
      "source": [
        "def sum_of_vals(a):\r\n",
        "  if(a==0):\r\n",
        "    return 0\r\n",
        "  return a+sum_of_vals(a-1)\r\n",
        "\r\n"
      ],
      "execution_count": null,
      "outputs": []
    },
    {
      "cell_type": "code",
      "metadata": {
        "colab": {
          "base_uri": "https://localhost:8080/"
        },
        "id": "b4degeNTQkn5",
        "outputId": "5fe79650-bed7-4f5e-ab38-bb2ce941cc30"
      },
      "source": [
        "sum_of_vals(4)"
      ],
      "execution_count": null,
      "outputs": [
        {
          "output_type": "execute_result",
          "data": {
            "text/plain": [
              "10"
            ]
          },
          "metadata": {
            "tags": []
          },
          "execution_count": 72
        }
      ]
    },
    {
      "cell_type": "code",
      "metadata": {
        "id": "BAROwYF0QmKX"
      },
      "source": [
        "class Patient():\r\n",
        "  def __init__(self,last,p_age=20,fname=\"\"):\r\n",
        "    self.last_name = last\r\n",
        "    self.age = p_age\r\n",
        "    self.first_name = fname\r\n",
        "  def printing_data(self):\r\n",
        "    print(self.last_name)\r\n",
        "    print(self.age)\r\n",
        "    print(self.first_name)"
      ],
      "execution_count": null,
      "outputs": []
    },
    {
      "cell_type": "code",
      "metadata": {
        "id": "8yQ7eOJERNf2"
      },
      "source": [
        "patient = Patient(\"Farooqui\",30)"
      ],
      "execution_count": null,
      "outputs": []
    },
    {
      "cell_type": "code",
      "metadata": {
        "colab": {
          "base_uri": "https://localhost:8080/"
        },
        "id": "kykhtBm-SM8o",
        "outputId": "52e9aa7c-d382-412d-999b-c7547938711c"
      },
      "source": [
        "patient.printing_data()"
      ],
      "execution_count": null,
      "outputs": [
        {
          "output_type": "stream",
          "text": [
            "Farooqui\n",
            "30\n"
          ],
          "name": "stdout"
        }
      ]
    },
    {
      "cell_type": "code",
      "metadata": {
        "id": "ka2wAjY6SPQS"
      },
      "source": [
        "patient.last_name = \"john\""
      ],
      "execution_count": null,
      "outputs": []
    },
    {
      "cell_type": "code",
      "metadata": {
        "colab": {
          "base_uri": "https://localhost:8080/"
        },
        "id": "7KlibgheTKoA",
        "outputId": "0738eea8-1fc6-46ba-f38b-9f243146bf6a"
      },
      "source": [
        "patient.printing_data()"
      ],
      "execution_count": null,
      "outputs": [
        {
          "output_type": "stream",
          "text": [
            "john\n",
            "30\n"
          ],
          "name": "stdout"
        }
      ]
    },
    {
      "cell_type": "code",
      "metadata": {
        "id": "Qc12IhxzTMhY"
      },
      "source": [
        "patient.first_name=\"ali\""
      ],
      "execution_count": null,
      "outputs": []
    },
    {
      "cell_type": "code",
      "metadata": {
        "colab": {
          "base_uri": "https://localhost:8080/"
        },
        "id": "3R1EwzvSTeYk",
        "outputId": "92b155d0-d075-41cc-a74b-c8cef0acf169"
      },
      "source": [
        "print(patient.first_name)"
      ],
      "execution_count": null,
      "outputs": [
        {
          "output_type": "stream",
          "text": [
            "ali\n"
          ],
          "name": "stdout"
        }
      ]
    },
    {
      "cell_type": "code",
      "metadata": {
        "id": "jxn9b2pzTiML"
      },
      "source": [
        "patient1 = Patient(\"defaultname\",30)\r\n",
        "patient2 = Patient(\"pateint2\",30)"
      ],
      "execution_count": null,
      "outputs": []
    },
    {
      "cell_type": "code",
      "metadata": {
        "colab": {
          "base_uri": "https://localhost:8080/",
          "height": 35
        },
        "id": "tSc793xOTzPp",
        "outputId": "627e45c3-0517-4b55-af23-2ca4fc5db226"
      },
      "source": [
        "patient1.first_name"
      ],
      "execution_count": null,
      "outputs": [
        {
          "output_type": "execute_result",
          "data": {
            "application/vnd.google.colaboratory.intrinsic+json": {
              "type": "string"
            },
            "text/plain": [
              "''"
            ]
          },
          "metadata": {
            "tags": []
          },
          "execution_count": 102
        }
      ]
    },
    {
      "cell_type": "code",
      "metadata": {
        "id": "W0z458yTT60j"
      },
      "source": [
        "class Patient():\r\n",
        "  def __init__(self,last=\"\",p_age=20,fname=\"\"):\r\n",
        "    self.last_name = last\r\n",
        "    self.age = p_age\r\n",
        "    self.first_name = fname\r\n",
        "  def printing_data(self):\r\n",
        "    print(self.last_name)\r\n",
        "    print(self.age)\r\n",
        "    print(self.first_name)\r\n",
        "\r\n",
        "class tests(Patient):\r\n",
        "  def __init__(self,last=\"\",p_age=\"\",fname=\"\",tname=\"\"):\r\n",
        "    super().__init__(last,p_age,fname)\r\n",
        "    self.test_name = tname\r\n",
        "  def print_values(self):\r\n",
        "    super().printing_data()\r\n",
        "    print(self.test_name)\r\n",
        "\r\n",
        "class third(tests):\r\n",
        "  def __init__(self,last=\"\",p_age=\"\",fname=\"\",tname=\"\",tname2=\"\"):\r\n",
        "    super().__init__(last,p_age,fname,tname)\r\n",
        "    self.tname2=tname2\r\n",
        "  def print_valuess(self):\r\n",
        "    super().print_values()\r\n",
        "    print(self.tname2)\r\n",
        "\r\n",
        "  "
      ],
      "execution_count": null,
      "outputs": []
    },
    {
      "cell_type": "code",
      "metadata": {
        "id": "MoC0quN1Uy4z"
      },
      "source": [
        "#test1 = tests(\"ali\",30,\"abc\",\"testname\")\r\n",
        "third1 = third('john',12,'ali','tname1','tname2')"
      ],
      "execution_count": null,
      "outputs": []
    },
    {
      "cell_type": "code",
      "metadata": {
        "colab": {
          "base_uri": "https://localhost:8080/"
        },
        "id": "QRc-OPBFVTVt",
        "outputId": "63959746-a332-4d25-ddd7-c59fdb2cc2ec"
      },
      "source": [
        "third1.print_valuess()"
      ],
      "execution_count": null,
      "outputs": [
        {
          "output_type": "stream",
          "text": [
            "john\n",
            "12\n",
            "ali\n",
            "tname1\n",
            "tname2\n"
          ],
          "name": "stdout"
        }
      ]
    },
    {
      "cell_type": "code",
      "metadata": {
        "colab": {
          "base_uri": "https://localhost:8080/",
          "height": 35
        },
        "id": "N5nUOorgVj_Q",
        "outputId": "daf0ce83-3a44-481e-ecff-9b73bc76e5ea"
      },
      "source": [
        "third1.first_name"
      ],
      "execution_count": null,
      "outputs": [
        {
          "output_type": "execute_result",
          "data": {
            "application/vnd.google.colaboratory.intrinsic+json": {
              "type": "string"
            },
            "text/plain": [
              "''"
            ]
          },
          "metadata": {
            "tags": []
          },
          "execution_count": 125
        }
      ]
    },
    {
      "cell_type": "code",
      "metadata": {
        "id": "GujvMdMDXRZO"
      },
      "source": [
        ""
      ],
      "execution_count": null,
      "outputs": []
    },
    {
      "cell_type": "code",
      "metadata": {
        "id": "9FtWoK1XZdkl"
      },
      "source": [
        "import numpy as np"
      ],
      "execution_count": null,
      "outputs": []
    },
    {
      "cell_type": "code",
      "metadata": {
        "id": "XX1OU9gUZe2Q"
      },
      "source": [
        "a = numpy.arange(1,10)"
      ],
      "execution_count": null,
      "outputs": []
    },
    {
      "cell_type": "code",
      "metadata": {
        "colab": {
          "base_uri": "https://localhost:8080/"
        },
        "id": "g9CXjKehZjGk",
        "outputId": "1ea6c318-2f5b-4cde-a74f-a442ea71f236"
      },
      "source": [
        "a"
      ],
      "execution_count": null,
      "outputs": [
        {
          "output_type": "execute_result",
          "data": {
            "text/plain": [
              "array([1, 2, 3, 4, 5, 6, 7, 8, 9])"
            ]
          },
          "metadata": {
            "tags": []
          },
          "execution_count": 142
        }
      ]
    },
    {
      "cell_type": "code",
      "metadata": {
        "id": "j6BQNIH2ZjdW"
      },
      "source": [
        "from patient import Patient"
      ],
      "execution_count": null,
      "outputs": []
    },
    {
      "cell_type": "code",
      "metadata": {
        "colab": {
          "base_uri": "https://localhost:8080/",
          "height": 162
        },
        "id": "tAzItz8QZ_6t",
        "outputId": "e63c04c6-f694-4bec-9007-d138b1ca36c4"
      },
      "source": [
        "Patient.printing_data()"
      ],
      "execution_count": null,
      "outputs": [
        {
          "output_type": "error",
          "ename": "TypeError",
          "evalue": "ignored",
          "traceback": [
            "\u001b[0;31m---------------------------------------------------------------------------\u001b[0m",
            "\u001b[0;31mTypeError\u001b[0m                                 Traceback (most recent call last)",
            "\u001b[0;32m<ipython-input-145-5efa8093d92f>\u001b[0m in \u001b[0;36m<module>\u001b[0;34m()\u001b[0m\n\u001b[0;32m----> 1\u001b[0;31m \u001b[0mPatient\u001b[0m\u001b[0;34m.\u001b[0m\u001b[0mprinting_data\u001b[0m\u001b[0;34m(\u001b[0m\u001b[0;34m)\u001b[0m\u001b[0;34m\u001b[0m\u001b[0;34m\u001b[0m\u001b[0m\n\u001b[0m",
            "\u001b[0;31mTypeError\u001b[0m: printing_data() missing 1 required positional argument: 'self'"
          ]
        }
      ]
    },
    {
      "cell_type": "code",
      "metadata": {
        "id": "OAoIZUiQaDcV"
      },
      "source": [
        "user = Patient()"
      ],
      "execution_count": null,
      "outputs": []
    },
    {
      "cell_type": "code",
      "metadata": {
        "id": "FzVXN0KQ0GFN"
      },
      "source": [
        "import random"
      ],
      "execution_count": 2,
      "outputs": []
    },
    {
      "cell_type": "code",
      "metadata": {
        "colab": {
          "base_uri": "https://localhost:8080/"
        },
        "id": "cbh7GuWq07xO",
        "outputId": "cff22fe7-b245-4f00-fd00-d5dfb8dceb40"
      },
      "source": [
        "abc = [1,2,3,4,5,6,7,8,9,10]\r\n",
        "random.sample(abc,k=3)"
      ],
      "execution_count": 5,
      "outputs": [
        {
          "output_type": "execute_result",
          "data": {
            "text/plain": [
              "[5, 3, 2]"
            ]
          },
          "metadata": {
            "tags": []
          },
          "execution_count": 5
        }
      ]
    },
    {
      "cell_type": "code",
      "metadata": {
        "id": "_uOcolQh1HHK"
      },
      "source": [
        "from random import random"
      ],
      "execution_count": 6,
      "outputs": []
    },
    {
      "cell_type": "code",
      "metadata": {
        "id": "H1obyqim17SM"
      },
      "source": [
        "data = [random()*100 for x in range(100)]"
      ],
      "execution_count": 10,
      "outputs": []
    },
    {
      "cell_type": "code",
      "metadata": {
        "colab": {
          "base_uri": "https://localhost:8080/",
          "height": 295
        },
        "id": "vEjLMxmP2ADh",
        "outputId": "4b0ab3c9-0a6b-42c4-cf3d-7e9db8bbbdc5"
      },
      "source": [
        "import matplotlib.pyplot as plt\r\n",
        "plt.hist(data,bins=20)\r\n",
        "plt.title(\"histogram\")\r\n",
        "plt.xlabel(\"index values\")\r\n",
        "plt.ylabel(\"data\")\r\n",
        "plt.show()"
      ],
      "execution_count": 16,
      "outputs": [
        {
          "output_type": "display_data",
          "data": {
            "image/png": "[encoded data removed]",
            "text/plain": [
              "<Figure size 432x288 with 1 Axes>"
            ]
          },
          "metadata": {
            "tags": [],
            "needs_background": "light"
          }
        }
      ]
    },
    {
      "cell_type": "code",
      "metadata": {
        "colab": {
          "base_uri": "https://localhost:8080/"
        },
        "id": "eB8pzkr52TfS",
        "outputId": "8680fbc7-9338-4909-c96f-428c946ae30f"
      },
      "source": [
        "!pip install IMDbPY"
      ],
      "execution_count": 17,
      "outputs": [
        {
          "output_type": "stream",
          "text": [
            "Collecting IMDbPY\n",
            "\u001b[?25l  Downloading https://files.pythonhosted.org/packages/c2/01/f5ac9a00185d02af0da7866e02f36de674c531f4d16a82f6ea942446471a/IMDbPY-2020.9.25-py3-none-any.whl (304kB)\n",
            "\r\u001b[K     |█                               | 10kB 13.2MB/s eta 0:00:01\r\u001b[K     |██▏                             | 20kB 10.2MB/s eta 0:00:01\r\u001b[K     |███▎                            | 30kB 10.6MB/s eta 0:00:01\r\u001b[K     |████▎                           | 40kB 8.4MB/s eta 0:00:01\r\u001b[K     |█████▍                          | 51kB 4.2MB/s eta 0:00:01\r\u001b[K     |██████▌                         | 61kB 4.8MB/s eta 0:00:01\r\u001b[K     |███████▌                        | 71kB 4.9MB/s eta 0:00:01\r\u001b[K     |████████▋                       | 81kB 5.3MB/s eta 0:00:01\r\u001b[K     |█████████▊                      | 92kB 5.7MB/s eta 0:00:01\r\u001b[K     |██████████▊                     | 102kB 5.8MB/s eta 0:00:01\r\u001b[K     |███████████▉                    | 112kB 5.8MB/s eta 0:00:01\r\u001b[K     |█████████████                   | 122kB 5.8MB/s eta 0:00:01\r\u001b[K     |██████████████                  | 133kB 5.8MB/s eta 0:00:01\r\u001b[K     |███████████████                 | 143kB 5.8MB/s eta 0:00:01\r\u001b[K     |████████████████▏               | 153kB 5.8MB/s eta 0:00:01\r\u001b[K     |█████████████████▏              | 163kB 5.8MB/s eta 0:00:01\r\u001b[K     |██████████████████▎             | 174kB 5.8MB/s eta 0:00:01\r\u001b[K     |███████████████████▍            | 184kB 5.8MB/s eta 0:00:01\r\u001b[K     |████████████████████▍           | 194kB 5.8MB/s eta 0:00:01\r\u001b[K     |█████████████████████▌          | 204kB 5.8MB/s eta 0:00:01\r\u001b[K     |██████████████████████▋         | 215kB 5.8MB/s eta 0:00:01\r\u001b[K     |███████████████████████▋        | 225kB 5.8MB/s eta 0:00:01\r\u001b[K     |████████████████████████▊       | 235kB 5.8MB/s eta 0:00:01\r\u001b[K     |█████████████████████████▉      | 245kB 5.8MB/s eta 0:00:01\r\u001b[K     |██████████████████████████▉     | 256kB 5.8MB/s eta 0:00:01\r\u001b[K     |████████████████████████████    | 266kB 5.8MB/s eta 0:00:01\r\u001b[K     |█████████████████████████████   | 276kB 5.8MB/s eta 0:00:01\r\u001b[K     |██████████████████████████████  | 286kB 5.8MB/s eta 0:00:01\r\u001b[K     |███████████████████████████████▏| 296kB 5.8MB/s eta 0:00:01\r\u001b[K     |████████████████████████████████| 307kB 5.8MB/s \n",
            "\u001b[?25hRequirement already satisfied: lxml in /usr/local/lib/python3.7/dist-packages (from IMDbPY) (4.2.6)\n",
            "Requirement already satisfied: SQLAlchemy in /usr/local/lib/python3.7/dist-packages (from IMDbPY) (1.3.23)\n",
            "Installing collected packages: IMDbPY\n",
            "Successfully installed IMDbPY-2020.9.25\n"
          ],
          "name": "stdout"
        }
      ]
    },
    {
      "cell_type": "code",
      "metadata": {
        "id": "NEQHO8DC3fZ2"
      },
      "source": [
        "from imdb import IMDb"
      ],
      "execution_count": 18,
      "outputs": []
    },
    {
      "cell_type": "code",
      "metadata": {
        "id": "CCy6CqO33pfW"
      },
      "source": [
        "ia = IMDb()"
      ],
      "execution_count": 19,
      "outputs": []
    },
    {
      "cell_type": "code",
      "metadata": {
        "id": "R7_iCdyK3rxd"
      },
      "source": [
        "data = ia.get_movie('0094898')"
      ],
      "execution_count": 20,
      "outputs": []
    },
    {
      "cell_type": "code",
      "metadata": {
        "colab": {
          "base_uri": "https://localhost:8080/"
        },
        "id": "YXL_o9UI4AXp",
        "outputId": "8cecfb07-d21b-4702-890e-9889b580331e"
      },
      "source": [
        "for i in data['directors']:\r\n",
        "  print(i)"
      ],
      "execution_count": 23,
      "outputs": [
        {
          "output_type": "stream",
          "text": [
            "John Landis\n"
          ],
          "name": "stdout"
        }
      ]
    },
    {
      "cell_type": "code",
      "metadata": {
        "colab": {
          "base_uri": "https://localhost:8080/"
        },
        "id": "y5l435bA4BSU",
        "outputId": "91a296df-5da7-4a7f-8c6b-ddf221110424"
      },
      "source": [
        "print(sorted(data.keys()))"
      ],
      "execution_count": 25,
      "outputs": [
        {
          "output_type": "stream",
          "text": [
            "['akas', 'art department', 'art directors', 'aspect ratio', 'assistant directors', 'box office', 'camera department', 'canonical title', 'cast', 'casting department', 'casting directors', 'certificates', 'cinematographers', 'color info', 'composers', 'costume departmen', 'costume designers', 'countries', 'country codes', 'cover url', 'director', 'directors', 'distributors', 'editorial department', 'editors', 'full-size cover url', 'genres', 'imdbID', 'kind', 'language codes', 'languages', 'location management', 'long imdb canonical title', 'long imdb title', 'make up department', 'miscellaneous', 'music department', 'original air date', 'original title', 'other companies', 'plot', 'plot outline', 'producers', 'production companies', 'production designers', 'production managers', 'rating', 'runtimes', 'script department', 'set decorators', 'smart canonical title', 'smart long imdb canonical title', 'sound department', 'sound mix', 'special effects', 'special effects companies', 'stunts', 'synopsis', 'thanks', 'title', 'transportation department', 'visual effects', 'votes', 'writer', 'writers', 'year']\n"
          ],
          "name": "stdout"
        }
      ]
    },
    {
      "cell_type": "code",
      "metadata": {
        "colab": {
          "base_uri": "https://localhost:8080/"
        },
        "id": "XP1nJVJe4Svt",
        "outputId": "d5351271-6910-4bc2-d373-5cba634f9947"
      },
      "source": [
        "data[\"cast\"]"
      ],
      "execution_count": 26,
      "outputs": [
        {
          "output_type": "execute_result",
          "data": {
            "text/plain": [
              "[<Person id:0061003[http] name:_Paul Bates_>,\n",
              " <Person id:0000552[http] name:_Eddie Murphy_>,\n",
              " <Person id:0004731[http] name:_Garcelle Beauvais_>,\n",
              " <Person id:0269936[http] name:_Feather_>,\n",
              " <Person id:9432060[http] name:_Stephanie Simon_>,\n",
              " <Person id:0226851[http] name:_Victoria Dillard_>,\n",
              " <Person id:5058608[http] name:_Felicia Taylor_>,\n",
              " <Person id:0585636[http] name:_Midori_>,\n",
              " <Person id:0000469[http] name:_James Earl Jones_>,\n",
              " <Person id:0801672[http] name:_Madge Sinclair_>,\n",
              " <Person id:0426220[http] name:_Sheila Johnson_>,\n",
              " <Person id:0002119[http] name:_Arsenio Hall_>,\n",
              " <Person id:0877818[http] name:_Raymond D. Turner_>,\n",
              " <Person id:0516865[http] name:_Calvin Lockhart_>,\n",
              " <Person id:0330032[http] name:_Billi Gordon_>,\n",
              " <Person id:0068599[http] name:_Vanessa Bell Calloway_>,\n",
              " <Person id:0826039[http] name:_Jake Steinfeld_>,\n",
              " <Person id:0000421[http] name:_Cuba Gooding Jr._>,\n",
              " <Person id:0807743[http] name:_Clint Smith_>,\n",
              " <Person id:0265670[http] name:_Frankie Faison_>,\n",
              " <Person id:0614768[http] name:_Uncle Ray Murphy_>,\n",
              " <Person id:0763650[http] name:_Ruben Santiago-Hudson_>,\n",
              " <Person id:0052480[http] name:_Paulette Banoza_>,\n",
              " <Person id:0427793[http] name:_Clyde Risley Jones_>,\n",
              " <Person id:0560131[http] name:_Patricia Matthews_>,\n",
              " <Person id:0205118[http] name:_Mary Bond Davis_>,\n",
              " <Person id:0949743[http] name:_Mary Young_>,\n",
              " <Person id:0247298[http] name:_Carla Earle_>,\n",
              " <Person id:0654400[http] name:_Karen Owens_>,\n",
              " <Person id:0654459[http] name:_Sharon Owens_>,\n",
              " <Person id:0347968[http] name:_Lisa Gumora_>,\n",
              " <Person id:0102142[http] name:_June Boykins_>,\n",
              " <Person id:0173119[http] name:_Janette Colon_>,\n",
              " <Person id:0173136[http] name:_Vanessa Colon_>,\n",
              " <Person id:0543088[http] name:_Monique Mannen_>,\n",
              " <Person id:0590802[http] name:_Mindora Mimms_>,\n",
              " <Person id:0277952[http] name:_Cynthia Finkley_>,\n",
              " <Person id:0025309[http] name:_John Amos_>,\n",
              " <Person id:0212695[http] name:_Allison Dean_>,\n",
              " <Person id:0372191[http] name:_Shari Headley_>,\n",
              " <Person id:0005113[http] name:_Eriq La Salle_>,\n",
              " <Person id:0004706[http] name:_Louie Anderson_>,\n",
              " <Person id:0815340[http] name:_David Sosna_>,\n",
              " <Person id:0193554[http] name:_Vondie Curtis-Hall_>,\n",
              " <Person id:0000168[http] name:_Samuel L. Jackson_>,\n",
              " <Person id:9432061[http] name:_Dottie_>,\n",
              " <Person id:0010751[http] name:_Arthur Adams_>,\n",
              " <Person id:0363171[http] name:_Loni Kaye Harkless_>,\n",
              " <Person id:0353705[http] name:_Montrose Hagins_>,\n",
              " <Person id:0729579[http] name:_Tonja Rivers_>,\n",
              " <Person id:0000747[http] name:_Don Ameche_>,\n",
              " <Person id:0000897[http] name:_Ralph Bellamy_>,\n",
              " <Person id:0434566[http] name:_Elaine Kagan_>,\n",
              " <Person id:0846333[http] name:_Michael Tadross_>,\n",
              " <Person id:0925473[http] name:_Steve White_>,\n",
              " <Person id:0359834[http] name:_Helen Hanft_>,\n",
              " <Person id:0354859[http] name:_Birdie M. Hale_>,\n",
              " <Person id:0000720[http] name:_Jim Abrahams_>,\n",
              " <Person id:0017735[http] name:_Leah Aldridge_>,\n",
              " <Person id:0019844[http] name:_Aurorah Allain_>,\n",
              " <Person id:0114409[http] name:_Paula Brown_>,\n",
              " <Person id:0154190[http] name:_Dwayne Chattman_>,\n",
              " <Person id:0164517[http] name:_Stephanie Clark_>,\n",
              " <Person id:0227255[http] name:_Robin L. Dimension_>,\n",
              " <Person id:0247273[http] name:_Shaun Earl_>,\n",
              " <Person id:0254830[http] name:_Eric L. Ellis_>,\n",
              " <Person id:0275012[http] name:_Sharon Ferrol-Young_>,\n",
              " <Person id:0376426[http] name:_Eric D. Henderson_>,\n",
              " <Person id:0402820[http] name:_Gigi Hunter_>,\n",
              " <Person id:1064181[http] name:_Debra Johnson_>,\n",
              " <Person id:0498341[http] name:_Tanya Lynne Lee_>,\n",
              " <Person id:0517040[http] name:_Jimmy Locust_>,\n",
              " <Person id:0673925[http] name:_Donna M. Perkins_>,\n",
              " <Person id:0734264[http] name:_Dionne Rockhold_>,\n",
              " <Person id:0741400[http] name:_Gina Consuela Rose_>,\n",
              " <Person id:0779685[http] name:_Randolph Scott_>,\n",
              " <Person id:0850866[http] name:_Robbin Tasha-Ford_>,\n",
              " <Person id:0898670[http] name:_Jerald Vincent_>,\n",
              " <Person id:0930576[http] name:_Eyan Williams_>,\n",
              " <Person id:0205401[http] name:_Roy Milton Davis_>,\n",
              " <Person id:1799486[http] name:_Dorian DeMichele_>,\n",
              " <Person id:1949042[http] name:_Karl Denson_>,\n",
              " <Person id:5647777[http] name:_Gloria Ellington_>,\n",
              " <Person id:0330699[http] name:_Alison Gordy_>,\n",
              " <Person id:0336620[http] name:_F. Gary Gray_>,\n",
              " <Person id:0366599[http] name:_Vincent Harta_>,\n",
              " <Person id:0001361[http] name:_Tobe Hooper_>,\n",
              " <Person id:0401828[http] name:_David Hummel_>,\n",
              " <Person id:9215089[http] name:_Bianca McEachin_>,\n",
              " <Person id:0709337[http] name:_Angel Ramirez Jr._>,\n",
              " <Person id:1170673[http] name:_Stan Rodarte_>,\n",
              " <Person id:0734755[http] name:_Nile Rodgers_>,\n",
              " <Person id:0767352[http] name:_Nick Savage_>,\n",
              " <Person id:1113009[http] name:_Scott Shepherd_>]"
            ]
          },
          "metadata": {
            "tags": []
          },
          "execution_count": 26
        }
      ]
    },
    {
      "cell_type": "code",
      "metadata": {
        "colab": {
          "base_uri": "https://localhost:8080/"
        },
        "id": "dWSD8IUC4bKB",
        "outputId": "f2ac4c4c-8f47-4544-ba55-e91e20493b56"
      },
      "source": [
        "for i in range(10):\r\n",
        "  print(i)"
      ],
      "execution_count": 29,
      "outputs": [
        {
          "output_type": "stream",
          "text": [
            "0\n",
            "1\n",
            "2\n",
            "3\n",
            "4\n",
            "5\n",
            "6\n",
            "7\n",
            "8\n",
            "9\n"
          ],
          "name": "stdout"
        }
      ]
    },
    {
      "cell_type": "code",
      "metadata": {
        "id": "dFti96KD408p"
      },
      "source": [
        "# Powerpoint ppt using python\r\n",
        "# MS Word using python\r\n",
        "# numpy, pandas and matplotlib , seaborn"
      ],
      "execution_count": 30,
      "outputs": []
    },
    {
      "cell_type": "code",
      "metadata": {
        "id": "O9xGRrP09k7f"
      },
      "source": [
        "import numpy as np\r\n",
        "\r\n",
        "data = np.array([1,2,3,4])"
      ],
      "execution_count": 31,
      "outputs": []
    },
    {
      "cell_type": "code",
      "metadata": {
        "id": "_INBjnS59oM-"
      },
      "source": [
        ""
      ],
      "execution_count": null,
      "outputs": []
    }
  ]
}